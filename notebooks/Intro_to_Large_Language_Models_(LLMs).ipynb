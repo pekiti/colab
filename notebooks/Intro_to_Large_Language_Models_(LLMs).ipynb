{
  "cells": [
    {
      "cell_type": "markdown",
      "metadata": {
        "id": "view-in-github",
        "colab_type": "text"
      },
      "source": [
        "<a href=\"https://colab.research.google.com/github/pekiti/colab/blob/main/notebooks/Intro_to_Large_Language_Models_(LLMs).ipynb\" target=\"_parent\"><img src=\"https://colab.research.google.com/assets/colab-badge.svg\" alt=\"Open In Colab\"/></a>"
      ]
    },
    {
      "cell_type": "markdown",
      "metadata": {
        "id": "MaUdQfIXfU_2"
      },
      "source": [
        "[![Open in Colab](https://colab.research.google.com/assets/colab-badge.svg)](https://colab.research.google.com/github/towardsai/ai-tutor-rag-system/blob/main/notebooks/Intro_to_Large_Language_Models_(LLMs).ipynb)"
      ]
    },
    {
      "cell_type": "code",
      "execution_count": 7,
      "metadata": {
        "id": "8RRmESqBDsvK"
      },
      "outputs": [],
      "source": [
        "import requests\n",
        "\n",
        "# Your OpenAI API key\n",
        "api_key = \"\"\n",
        "\n",
        "# from google.colab import userdata\n",
        "# api_key = userdata.get('openai_api_key')\n",
        "\n",
        "# The URL for the OpenAI API (GPT-4 endpoint)\n",
        "url = \"https://api.openai.com/v1/chat/completions\""
      ]
    },
    {
      "cell_type": "code",
      "execution_count": 8,
      "metadata": {
        "id": "x2s6BfWiD2sp"
      },
      "outputs": [],
      "source": [
        "# Setting up the headers with your API key for authentication\n",
        "headers = {\n",
        "    \"Authorization\": f\"Bearer {api_key}\",\n",
        "    \"Content-Type\": \"application/json\",\n",
        "}\n",
        "\n",
        "# The data payload with your prompt and other parameters\n",
        "data = {\n",
        "    \"model\": \"gpt-4o-mini\",\n",
        "    \"messages\": [\n",
        "        {\n",
        "            \"role\": \"system\",\n",
        "            \"content\": \"You are a helpful assistant that translate from English to French\"\n",
        "        },\n",
        "        {\n",
        "            \"role\": \"user\",\n",
        "            \"content\": \"Hello, how are you?\"\n",
        "        }\n",
        "    ],\n",
        "    \"temperature\": 0.7,\n",
        "    \"max_tokens\": 60,\n",
        "}"
      ]
    },
    {
      "cell_type": "code",
      "execution_count": 9,
      "metadata": {
        "colab": {
          "base_uri": "https://localhost:8080/"
        },
        "id": "p8QSMU2OD7e4",
        "outputId": "d605baa0-96e3-467c-f7b2-27e6b9d7e0e6"
      },
      "outputs": [
        {
          "output_type": "stream",
          "name": "stdout",
          "text": [
            "{'id': 'chatcmpl-B0YC6S8yBA8TLns9FYFH0W17jno8n', 'object': 'chat.completion', 'created': 1739471142, 'model': 'gpt-4o-mini-2024-07-18', 'choices': [{'index': 0, 'message': {'role': 'assistant', 'content': 'Bonjour, comment ça va ?', 'refusal': None}, 'logprobs': None, 'finish_reason': 'stop'}], 'usage': {'prompt_tokens': 28, 'completion_tokens': 7, 'total_tokens': 35, 'prompt_tokens_details': {'cached_tokens': 0, 'audio_tokens': 0}, 'completion_tokens_details': {'reasoning_tokens': 0, 'audio_tokens': 0, 'accepted_prediction_tokens': 0, 'rejected_prediction_tokens': 0}}, 'service_tier': 'default', 'system_fingerprint': 'fp_72ed7ab54c'}\n"
          ]
        }
      ],
      "source": [
        "import requests\n",
        "\n",
        "# Sending the POST request to the API\n",
        "response = requests.post(url, json=data, headers=headers)\n",
        "\n",
        "# Checking if the request was successful\n",
        "if response.status_code == 200:\n",
        "    # Print the text part of the response\n",
        "    print(response.json())\n",
        "else:\n",
        "    print(f\"Failed to fetch data: {response.status_code}, {response.text}\")"
      ]
    },
    {
      "cell_type": "code",
      "execution_count": 10,
      "metadata": {
        "colab": {
          "base_uri": "https://localhost:8080/"
        },
        "id": "iJNLzDbaD8Bj",
        "outputId": "6dd2f3ff-7fc1-4407-c873-9277e261781c"
      },
      "outputs": [
        {
          "output_type": "stream",
          "name": "stdout",
          "text": [
            "> Response:  Bonjour, comment ça va ?\n"
          ]
        }
      ],
      "source": [
        "print(\"> Response: \", response.json()['choices'][0]['message']['content'])"
      ]
    },
    {
      "cell_type": "code",
      "execution_count": null,
      "metadata": {
        "id": "PeXQcWMyw710"
      },
      "outputs": [],
      "source": []
    }
  ],
  "metadata": {
    "colab": {
      "provenance": [],
      "include_colab_link": true
    },
    "kernelspec": {
      "display_name": "Python 3",
      "name": "python3"
    },
    "language_info": {
      "name": "python"
    }
  },
  "nbformat": 4,
  "nbformat_minor": 0
}