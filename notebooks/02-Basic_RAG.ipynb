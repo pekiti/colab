{
  "cells": [
    {
      "cell_type": "markdown",
      "metadata": {
        "id": "4Tw3tvMs6R-Y"
      },
      "source": [
        "# Install Packages and Setup Variables\n"
      ]
    },
    {
      "cell_type": "code",
      "execution_count": null,
      "metadata": {
        "colab": {
          "base_uri": "https://localhost:8080/"
        },
        "id": "HaB4G9zr0BYm",
        "outputId": "67c64819-84ca-4a0d-ca9f-ee2d0205cb2b",
        "collapsed": true
      },
      "outputs": [
        {
          "output_type": "stream",
          "name": "stdout",
          "text": [
            "\u001b[?25l   \u001b[90m━━━━━━━━━━━━━━━━━━━━━━━━━━━━━━━━━━━━━━━━\u001b[0m \u001b[32m0.0/455.6 kB\u001b[0m \u001b[31m?\u001b[0m eta \u001b[36m-:--:--\u001b[0m\r\u001b[2K   \u001b[91m━━━━━━━━━━━━━━━━━━━━━━━━━━━━━━━━━━━━━━━\u001b[0m\u001b[91m╸\u001b[0m \u001b[32m450.6/455.6 kB\u001b[0m \u001b[31m15.5 MB/s\u001b[0m eta \u001b[36m0:00:01\u001b[0m\r\u001b[2K   \u001b[90m━━━━━━━━━━━━━━━━━━━━━━━━━━━━━━━━━━━━━━━━\u001b[0m \u001b[32m455.6/455.6 kB\u001b[0m \u001b[31m8.5 MB/s\u001b[0m eta \u001b[36m0:00:00\u001b[0m\n",
            "\u001b[?25h\u001b[?25l   \u001b[90m━━━━━━━━━━━━━━━━━━━━━━━━━━━━━━━━━━━━━━━━\u001b[0m \u001b[32m0.0/251.7 kB\u001b[0m \u001b[31m?\u001b[0m eta \u001b[36m-:--:--\u001b[0m\r\u001b[2K   \u001b[90m━━━━━━━━━━━━━━━━━━━━━━━━━━━━━━━━━━━━━━━━\u001b[0m \u001b[32m251.7/251.7 kB\u001b[0m \u001b[31m9.3 MB/s\u001b[0m eta \u001b[36m0:00:00\u001b[0m\n",
            "\u001b[2K   \u001b[90m━━━━━━━━━━━━━━━━━━━━━━━━━━━━━━━━━━━━━━━━\u001b[0m \u001b[32m1.2/1.2 MB\u001b[0m \u001b[31m23.8 MB/s\u001b[0m eta \u001b[36m0:00:00\u001b[0m\n",
            "\u001b[2K   \u001b[90m━━━━━━━━━━━━━━━━━━━━━━━━━━━━━━━━━━━━━━━━\u001b[0m \u001b[32m3.3/3.3 MB\u001b[0m \u001b[31m21.6 MB/s\u001b[0m eta \u001b[36m0:00:00\u001b[0m\n",
            "\u001b[?25h"
          ]
        }
      ],
      "source": [
        "!pip install -q openai==1.59.8 cohere==5.13.8 tiktoken==0.8.0"
      ]
    },
    {
      "cell_type": "code",
      "execution_count": 1,
      "metadata": {
        "id": "MYvUA6CF2Le6"
      },
      "outputs": [],
      "source": [
        "import os\n",
        "from google.colab import userdata\n",
        "\n",
        "\n",
        "os.environ[\"OPENAI_API_KEY\"] = userdata.get('openai_api_key')\n",
        "os.environ[\"GOOGLE_API_KEY\"] =  userdata.get('GOOGLE_API_KEY')\n"
      ]
    },
    {
      "cell_type": "code",
      "execution_count": 2,
      "metadata": {
        "id": "0ViVXXIqXBai"
      },
      "outputs": [],
      "source": [
        "# False: Generate the embedding for the dataset. (Associated cost with using OpenAI endpoint)\n",
        "# True: Load the dataset that already has the embedding vectors.\n",
        "load_embedding = False"
      ]
    },
    {
      "cell_type": "markdown",
      "metadata": {
        "id": "D8Nzx-cN_bDz"
      },
      "source": [
        "# Load Dataset\n"
      ]
    },
    {
      "cell_type": "markdown",
      "metadata": {
        "id": "5JpI7GiZ--Gw"
      },
      "source": [
        "## Download Dataset (JSON)\n"
      ]
    },
    {
      "cell_type": "markdown",
      "metadata": {
        "id": "NT68BDYt-GkG"
      },
      "source": [
        "The dataset includes several articles from the TowardsAI blog, which provide an in-depth explanation of the LLaMA2 model.\n"
      ]
    },
    {
      "cell_type": "code",
      "execution_count": 3,
      "metadata": {
        "colab": {
          "base_uri": "https://localhost:8080/"
        },
        "id": "p6NEJT9S2OoH",
        "outputId": "c8f56360-0b1c-4f01-ae3e-1a1a4d6683d8"
      },
      "outputs": [
        {
          "output_type": "stream",
          "name": "stdout",
          "text": [
            "--2025-02-17 11:33:31--  https://raw.githubusercontent.com/AlaFalaki/tutorial_notebooks/main/data/mini-llama-articles.csv\n",
            "Resolving raw.githubusercontent.com (raw.githubusercontent.com)... 185.199.108.133, 185.199.109.133, 185.199.110.133, ...\n",
            "Connecting to raw.githubusercontent.com (raw.githubusercontent.com)|185.199.108.133|:443... connected.\n",
            "HTTP request sent, awaiting response... 200 OK\n",
            "Length: 173646 (170K) [text/plain]\n",
            "Saving to: ‘mini-llama-articles.csv’\n",
            "\n",
            "mini-llama-articles 100%[===================>] 169.58K  --.-KB/s    in 0.03s   \n",
            "\n",
            "2025-02-17 11:33:31 (4.99 MB/s) - ‘mini-llama-articles.csv’ saved [173646/173646]\n",
            "\n",
            "--2025-02-17 11:33:31--  https://raw.githubusercontent.com/AlaFalaki/tutorial_notebooks/main/data/mini-llama-articles-with_embeddings.csv\n",
            "Resolving raw.githubusercontent.com (raw.githubusercontent.com)... 185.199.108.133, 185.199.109.133, 185.199.110.133, ...\n",
            "Connecting to raw.githubusercontent.com (raw.githubusercontent.com)|185.199.108.133|:443... connected.\n",
            "HTTP request sent, awaiting response... 200 OK\n",
            "Length: 6157740 (5.9M) [text/plain]\n",
            "Saving to: ‘mini-llama-articles-with_embeddings.csv’\n",
            "\n",
            "mini-llama-articles 100%[===================>]   5.87M  --.-KB/s    in 0.09s   \n",
            "\n",
            "2025-02-17 11:33:31 (62.3 MB/s) - ‘mini-llama-articles-with_embeddings.csv’ saved [6157740/6157740]\n",
            "\n"
          ]
        }
      ],
      "source": [
        "!wget https://raw.githubusercontent.com/AlaFalaki/tutorial_notebooks/main/data/mini-llama-articles.csv\n",
        "!wget https://raw.githubusercontent.com/AlaFalaki/tutorial_notebooks/main/data/mini-llama-articles-with_embeddings.csv"
      ]
    },
    {
      "cell_type": "markdown",
      "metadata": {
        "id": "oYDd03Qn_clh"
      },
      "source": [
        "## Read File\n"
      ]
    },
    {
      "cell_type": "code",
      "execution_count": 8,
      "metadata": {
        "id": "_bfhs5NMYr4N"
      },
      "outputs": [],
      "source": [
        "# Split the input text into chunks of specified size.\n",
        "def split_into_chunks(text, chunk_size=1024):\n",
        "    chunks = []\n",
        "    for i in range(0, len(text), chunk_size):\n",
        "        chunks.append(text[i : i + chunk_size])\n",
        "\n",
        "    return chunks"
      ]
    },
    {
      "cell_type": "code",
      "execution_count": 9,
      "metadata": {
        "id": "UcQ7Ge_XCuXa"
      },
      "outputs": [],
      "source": [
        "import csv\n",
        "\n",
        "chunks = []\n",
        "\n",
        "# Load the file as a CSV\n",
        "with open(\"./mini-llama-articles.csv\", mode=\"r\", encoding=\"utf-8\") as file:\n",
        "    csv_reader = csv.reader(file)\n",
        "\n",
        "    for idx, row in enumerate(csv_reader):\n",
        "        if idx == 0:\n",
        "            continue\n",
        "            # Skip header row\n",
        "        chunks.extend(split_into_chunks(row[1]))"
      ]
    },
    {
      "cell_type": "code",
      "source": [
        "print(\"number of articles:\", idx)\n",
        "print(\"number of chunks:\", len(chunks))"
      ],
      "metadata": {
        "colab": {
          "base_uri": "https://localhost:8080/"
        },
        "id": "UyJ_C672cSYs",
        "outputId": "01e080d0-a8ec-4471-b73a-9cb057d75aba"
      },
      "execution_count": 10,
      "outputs": [
        {
          "output_type": "stream",
          "name": "stdout",
          "text": [
            "number of articles: 14\n",
            "number of chunks: 174\n"
          ]
        }
      ]
    },
    {
      "cell_type": "code",
      "execution_count": 11,
      "metadata": {
        "colab": {
          "base_uri": "https://localhost:8080/"
        },
        "id": "JKdFSOb0NXjx",
        "outputId": "c93f9259-21ce-4c35-f183-f8eae135abe0"
      },
      "outputs": [
        {
          "output_type": "execute_result",
          "data": {
            "text/plain": [
              "Index(['chunk'], dtype='object')"
            ]
          },
          "metadata": {},
          "execution_count": 11
        }
      ],
      "source": [
        "import pandas as pd\n",
        "\n",
        "# Convert the JSON list to a Pandas Dataframe\n",
        "df = pd.DataFrame(chunks, columns=[\"chunk\"])\n",
        "\n",
        "df.keys()"
      ]
    },
    {
      "cell_type": "markdown",
      "metadata": {
        "id": "21pFDgNdW9rO"
      },
      "source": [
        "# Generate Embedding\n"
      ]
    },
    {
      "cell_type": "code",
      "execution_count": 12,
      "metadata": {
        "id": "AfS9w9eQAKyu"
      },
      "outputs": [],
      "source": [
        "from openai import OpenAI\n",
        "\n",
        "client = OpenAI()\n",
        "\n",
        "\n",
        "# Defining a function that converts a text to embedding vector using OpenAI's Ada model.\n",
        "def get_embedding(text):\n",
        "    try:\n",
        "        # Remove newlines\n",
        "        text = text.replace(\"\\n\", \" \")\n",
        "        res = client.embeddings.create(input=[text], model=\"text-embedding-3-small\")\n",
        "\n",
        "        return res.data[0].embedding\n",
        "\n",
        "    except:\n",
        "        return None"
      ]
    },
    {
      "cell_type": "code",
      "execution_count": 13,
      "metadata": {
        "colab": {
          "base_uri": "https://localhost:8080/",
          "height": 67,
          "referenced_widgets": [
            "45eb074f44254a699ba639d8c9a55084",
            "f7840898b7c249dfa4213bf007911e25",
            "6a8894d706484673a8e4599579006658",
            "6fccb69e9de44c088d65714dc6ac0d30",
            "6a40143733f848cf82666cad06e2e070",
            "625ad262c0cd49029d8084e78a577273",
            "d8b235239f2b4bab94920256ebcddf0b",
            "2a7ef2fe4b2742a8ba30c8afb093c7d9",
            "5dcdc3fc26d2477281cdfeced2a5d02d",
            "d4c9ff346be44ff3bd98eed27e1dd06f",
            "a062398ef22748a59c5305445c2af630"
          ]
        },
        "id": "qC6aeFr3Rmi2",
        "outputId": "401ade67-d0e2-4bdf-d762-f15ac7b62b24"
      },
      "outputs": [
        {
          "output_type": "stream",
          "name": "stdout",
          "text": [
            "Generating embeddings...\n"
          ]
        },
        {
          "output_type": "display_data",
          "data": {
            "text/plain": [
              "0it [00:00, ?it/s]"
            ],
            "application/vnd.jupyter.widget-view+json": {
              "version_major": 2,
              "version_minor": 0,
              "model_id": "45eb074f44254a699ba639d8c9a55084"
            }
          },
          "metadata": {}
        }
      ],
      "source": [
        "from tqdm.notebook import tqdm\n",
        "import numpy as np\n",
        "\n",
        "# Generate embedding\n",
        "if not load_embedding:\n",
        "    print(\"Generating embeddings...\")\n",
        "    embeddings = []\n",
        "    for index, row in tqdm(df.iterrows()):\n",
        "        # df.at[index, 'embedding'] = get_embedding( row['chunk'] )\n",
        "        embeddings.append(get_embedding(row[\"chunk\"]))\n",
        "\n",
        "    embeddings_values = pd.Series(embeddings)\n",
        "    df.insert(loc=1, column=\"embedding\", value=embeddings_values)\n",
        "\n",
        "# Or, load the embedding from the file.\n",
        "else:\n",
        "    print(\"Loaded the embedding file.\")\n",
        "    # Load the file as a CSV\n",
        "    df = pd.read_csv(\"mini-llama-articles-with_embeddings.csv\")\n",
        "    # Convert embedding column to an array\n",
        "    df[\"embedding\"] = df[\"embedding\"].apply(lambda x: np.array(eval(x)), 0)"
      ]
    },
    {
      "cell_type": "code",
      "execution_count": 14,
      "metadata": {
        "id": "jyX9M_n9o2ve"
      },
      "outputs": [],
      "source": [
        "# df.to_csv('mini-llama-articles-with_embeddings.csv')"
      ]
    },
    {
      "cell_type": "markdown",
      "metadata": {
        "id": "E_qrXwImXrXJ"
      },
      "source": [
        "# User Question\n"
      ]
    },
    {
      "cell_type": "code",
      "execution_count": 15,
      "metadata": {
        "colab": {
          "base_uri": "https://localhost:8080/"
        },
        "id": "xGTa7cqCX97q",
        "outputId": "ba9ed26b-2380-42ee-d2fb-f51740092d8c"
      },
      "outputs": [
        {
          "output_type": "execute_result",
          "data": {
            "text/plain": [
              "1536"
            ]
          },
          "metadata": {},
          "execution_count": 15
        }
      ],
      "source": [
        "# Define the user question, and convert it to embedding.\n",
        "QUESTION = \"How many parameters LLaMA2 model has?\"\n",
        "QUESTION_emb = get_embedding(QUESTION)\n",
        "\n",
        "len(QUESTION_emb)"
      ]
    },
    {
      "cell_type": "markdown",
      "metadata": {
        "id": "BXNzNWrJYWhU"
      },
      "source": [
        "# Test Cosine Similarity\n"
      ]
    },
    {
      "cell_type": "markdown",
      "metadata": {
        "id": "Vxaq-FgLIhIj"
      },
      "source": [
        "Calculating the similarity of embedding representations can help us to find pieces of text that are close to each other. In the following sample you see how the Cosine Similarity metric can identify which sentence could be a possible answer for the given user question. Obviously, the unrelated answer will score lower.\n"
      ]
    },
    {
      "cell_type": "code",
      "execution_count": 16,
      "metadata": {
        "id": "LqDWcPd4b-ZI"
      },
      "outputs": [],
      "source": [
        "BAD_SOURCE_emb = get_embedding(\"The sky is blue.\")\n",
        "GOOD_SOURCE_emb = get_embedding(\"LLaMA2 model has a total of 2B parameters.\")"
      ]
    },
    {
      "cell_type": "code",
      "execution_count": 17,
      "metadata": {
        "colab": {
          "base_uri": "https://localhost:8080/"
        },
        "id": "OI00eN86YZKB",
        "outputId": "85348cfa-ded7-42a1-ab22-1ec963b5fa5a"
      },
      "outputs": [
        {
          "output_type": "stream",
          "name": "stdout",
          "text": [
            "> Bad Response Score: [[0.02579343]]\n",
            "> Good Response Score: [[0.83200368]]\n"
          ]
        }
      ],
      "source": [
        "from sklearn.metrics.pairwise import cosine_similarity\n",
        "\n",
        "# A sample that how a good piece of text can achieve high similarity score compared\n",
        "# to a completely unrelated text.\n",
        "print(\"> Bad Response Score:\", cosine_similarity([QUESTION_emb], [BAD_SOURCE_emb]))\n",
        "print(\"> Good Response Score:\", cosine_similarity([QUESTION_emb], [GOOD_SOURCE_emb]))"
      ]
    },
    {
      "cell_type": "markdown",
      "metadata": {
        "id": "kdJlEtaaJC4I"
      },
      "source": [
        "# Calculate Cosine Similarities\n"
      ]
    },
    {
      "cell_type": "code",
      "execution_count": 18,
      "metadata": {
        "colab": {
          "base_uri": "https://localhost:8080/"
        },
        "id": "PNPN7OAXemmH",
        "outputId": "d2d772c4-a9d1-448b-946b-d78a377339e7"
      },
      "outputs": [
        {
          "output_type": "stream",
          "name": "stdout",
          "text": [
            "[[0.46773656 0.46917822 0.25978024 0.29378395 0.31963701 0.40161265\n",
            "  0.41501402 0.45254838 0.45933286 0.12604544 0.11750997 0.01349952\n",
            "  0.22601278 0.21425583 0.10140151 0.33066715 0.10741137 0.34691629\n",
            "  0.16309375 0.08740589 0.3481859  0.22843304 0.19200191 0.26473007\n",
            "  0.24957479 0.34833405 0.2483406  0.32764464 0.41444131 0.41336798\n",
            "  0.4637936  0.38348119 0.46858143 0.35645627 0.35402557 0.30277086\n",
            "  0.29942    0.29260393 0.40032623 0.46467315 0.39470469 0.41047318\n",
            "  0.44710891 0.43180532 0.35915013 0.33972319 0.51359082 0.20933145\n",
            "  0.40203642 0.32830776 0.42834574 0.48274107 0.450401   0.34255439\n",
            "  0.32081268 0.4260084  0.24655027 0.18086817 0.23667396 0.34272616\n",
            "  0.34379233 0.20473041 0.19762525 0.22440407 0.21109213 0.42302233\n",
            "  0.26380832 0.30424692 0.33610013 0.38370941 0.23533666 0.24352878\n",
            "  0.37076064 0.28023475 0.49054198 0.5305318  0.37822187 0.43774507\n",
            "  0.37768464 0.39263447 0.30086958 0.41717085 0.46750065 0.45420991\n",
            "  0.35155495 0.21230783 0.42627088 0.31605888 0.44060075 0.52729716\n",
            "  0.50601453 0.49754094 0.44284794 0.35117978 0.39483036 0.44136535\n",
            "  0.20328739 0.27925495 0.15404232 0.19230622 0.15914752 0.24109073\n",
            "  0.22526028 0.19944824 0.26229105 0.35056126 0.36216947 0.15312674\n",
            "  0.27641779 0.45341307 0.33425556 0.29443573 0.38164737 0.41728408\n",
            "  0.61955649 0.38692116 0.34439588 0.28274696 0.20160864 0.14607594\n",
            "  0.19516299 0.28228368 0.15624526 0.18059818 0.30282565 0.28140702\n",
            "  0.30290968 0.23778505 0.14550434 0.19745291 0.3923989  0.33001643\n",
            "  0.23543151 0.15704791 0.26883171 0.26477779 0.37828685 0.18130791\n",
            "  0.13045616 0.18453232 0.26055174 0.35590242 0.33356045 0.23508464\n",
            "  0.37107692 0.19003402 0.18963227 0.20088044 0.16397326 0.35012253\n",
            "  0.25216254 0.33900875 0.1828953  0.30641928 0.24206214 0.1308532\n",
            "  0.18219183 0.1908704  0.41316848 0.16361703 0.26365011 0.20635853\n",
            "  0.3018695  0.24803442 0.41007291 0.21770508 0.22252096 0.27768064\n",
            "  0.14576429 0.19762199 0.35372847 0.15402652 0.32274248 0.30301259]]\n"
          ]
        }
      ],
      "source": [
        "# The similarity between the questions and each part of the essay.\n",
        "cosine_similarities = cosine_similarity([QUESTION_emb], df[\"embedding\"].tolist())\n",
        "\n",
        "print(cosine_similarities)"
      ]
    },
    {
      "cell_type": "code",
      "execution_count": 19,
      "metadata": {
        "colab": {
          "base_uri": "https://localhost:8080/"
        },
        "id": "1-XI1_7mhlw4",
        "outputId": "541c51f3-97a4-4618-c57e-e1b2dad6934c"
      },
      "outputs": [
        {
          "output_type": "stream",
          "name": "stdout",
          "text": [
            "[114  75  89]\n"
          ]
        }
      ],
      "source": [
        "import numpy as np\n",
        "\n",
        "number_of_chunks_to_retrieve = 3\n",
        "\n",
        "# Sort the scores\n",
        "highest_index = np.argmax(cosine_similarities)\n",
        "\n",
        "# Pick the N highest scored chunks\n",
        "indices = np.argsort(cosine_similarities[0])[::-1][:number_of_chunks_to_retrieve]\n",
        "print(indices)"
      ]
    },
    {
      "cell_type": "code",
      "execution_count": 20,
      "metadata": {
        "colab": {
          "base_uri": "https://localhost:8080/"
        },
        "id": "JPmhCb9kfB0w",
        "outputId": "443ad5eb-c7cd-4f22-f660-9a0998a7698b"
      },
      "outputs": [
        {
          "output_type": "stream",
          "name": "stdout",
          "text": [
            "> Chunk 1\n",
            "by Meta that ventures into both the AI and academic spaces. The model aims to help researchers, scientists, and engineers advance their work in exploring AI applications. It will be released under a non-commercial license to prevent misuse, and access will be granted to academic researchers, individuals, and organizations affiliated with the government, civil society, academia, and industry research facilities on a selective case-by-case basis. The sharing of codes and weights allows other researchers to test new approaches in LLMs. The LLaMA models have a range of 7 billion to 65 billion parameters. LLaMA-65B can be compared to DeepMind's Chinchilla and Google's PaLM. Publicly available unlabeled data was used to train these models, and training smaller foundational models require less computing power and resources. LLaMA 65B and 33B have been trained on 1.4 trillion tokens in 20 different languages, and according to the Facebook Artificial Intelligence Research (FAIR) team, the model's performance varies ac\n",
            "----\n",
            "> Chunk 2\n",
            "LLaMA: Meta's new AI tool According to the official release, LLaMA is a foundational language model developed to assist 'researchers and academics' in their work (as opposed to the average web user) to understand and study these NLP models. Leveraging AI in such a way could give researchers an edge in terms of time spent. You may not know this, but this would be Meta's third LLM after Blender Bot 3 and Galactica. However, the two LLMs were shut down soon, and Meta stopped their further development, as it produced erroneous results. Before moving further, it is important to emphasize that LLaMA is NOT a chatbot like ChatGPT. As I mentioned before, it is a 'research tool' for researchers. We can expect the initial versions of LLaMA to be a bit more technical and indirect to use as opposed to the case with ChatGPT, which was very direct, interactive, and a lot easy to use. \"Smaller, more performant models such as LLaMA enable ... research community who don't have access to large amounts of infrastructure to stud\n",
            "----\n",
            "> Chunk 3\n",
            "I. Llama 2: Revolutionizing Commercial Use Unlike its predecessor Llama 1, which was limited to research use, Llama 2 represents a major advancement as an open-source commercial model. Businesses can now integrate Llama 2 into products to create AI-powered applications. Availability on Azure and AWS facilitates fine-tuning and adoption. However, restrictions apply to prevent exploitation. Companies with over 700 million active daily users cannot use Llama 2. Additionally, its output cannot be used to improve other language models.  II. Llama 2 Model Flavors Llama 2 is available in four different model sizes: 7 billion, 13 billion, 34 billion, and 70 billion parameters. While 7B, 13B, and 70B have already been released, the 34B model is still awaited. The pretrained variant, trained on a whopping 2 trillion tokens, boasts a context window of 4096 tokens, twice the size of its predecessor Llama 1. Meta also released a Llama 2 fine-tuned model for chat applications that was trained on over 1 million human annota\n",
            "----\n"
          ]
        }
      ],
      "source": [
        "# Look at the highest scored retrieved pieces of text\n",
        "for idx, item in enumerate(df.chunk[indices]):\n",
        "    print(f\"> Chunk {idx+1}\")\n",
        "    print(item)\n",
        "    print(\"----\")"
      ]
    },
    {
      "cell_type": "markdown",
      "metadata": {
        "id": "7uvQACqAkHg4"
      },
      "source": [
        "# Augment the Prompt\n"
      ]
    },
    {
      "cell_type": "code",
      "source": [
        "import google.generativeai as genai\n",
        "# Use the Gemini API to answer the questions based on the retrieved pieces of text.\n",
        "try:\n",
        "    # Formulating the system prompt and condition the model to answer only AI-related questions.\n",
        "    system_prompt = (\n",
        "        \"You are an assistant and expert in answering questions from a chunks of content. \"\n",
        "        \"Only answer AI-related question, else say that you cannot answer this question.\"\n",
        "    )\n",
        "\n",
        "    # Create a user prompt with the user's question\n",
        "    prompt = (\n",
        "        \"Read the following informations that might contain the context you require to answer the question. You can use the informations starting from the <START_OF_CONTEXT> tag and end with the <END_OF_CONTEXT> tag. Here is the content:\\n\\n<START_OF_CONTEXT>\\n{}\\n<END_OF_CONTEXT>\\n\\n\"\n",
        "        \"Please provide an informative and accurate answer to the following question based on the avaiable context. Be concise and take your time. \\nQuestion: {}\\nAnswer:\"\n",
        "    )\n",
        "    # Add the retrieved pieces of text to the prompt.\n",
        "    prompt = prompt.format(\"\".join(df.chunk[indices]), QUESTION)\n",
        "\n",
        "    model = genai.GenerativeModel(model_name= \"gemini-1.5-flash\", system_instruction=system_prompt)\n",
        "\n",
        "    result = model.generate_content(prompt,request_options={\"timeout\": 1000},)\n",
        "    res = result.text\n",
        "\n",
        "except Exception as e:\n",
        "    print(f\"An error occurred: {e}\")"
      ],
      "metadata": {
        "id": "sw1lb0dJ6vP7"
      },
      "execution_count": 21,
      "outputs": []
    },
    {
      "cell_type": "code",
      "execution_count": 22,
      "metadata": {
        "colab": {
          "base_uri": "https://localhost:8080/"
        },
        "id": "9tBvJ8oMucha",
        "outputId": "6f0edac7-038b-4937-8c4e-f48fae53625e"
      },
      "outputs": [
        {
          "output_type": "stream",
          "name": "stdout",
          "text": [
            "LLaMA 2 comes in four sizes: 7 billion, 13 billion, 34 billion, and 70 billion parameters.\n",
            "\n"
          ]
        }
      ],
      "source": [
        "print(res)"
      ]
    },
    {
      "cell_type": "markdown",
      "source": [
        "## How Augmenting the Prompt can address knowledge cutoff limitations and hallucinations"
      ],
      "metadata": {
        "id": "Aamim8n6RZHO"
      }
    },
    {
      "cell_type": "code",
      "source": [
        "# Consider this as a retrieved chunk\n",
        "# https://ai.meta.com/blog/meta-llama-3-1/\n",
        "Example_chunk = \"\"\"\n",
        "Introducing Llama 3.1 Llama 3.1 405B is the first openly available model that rivals the top AI models when it comes to state-of-the-art capabilities in general knowledge, steerability, math, tool use, and multilingual translation. With the release of the 405B model, we’re poised to supercharge innovation—with unprecedented opportunities for growth and exploration. We believe the latest generation of Llama will ignite new applications and modeling paradigms, including synthetic data generation to enable the improvement and training of smaller models, as well as model distillation—a capability that has never been achieved at this scale in open source.\n",
        "As part of this latest release, we’re introducing upgraded versions of the 8B and 70B models. These are multilingual and have a significantly longer context length of 128K, state-of-the-art tool use, and overall stronger reasoning capabilities. This enables our latest models to support advanced use cases, such as long-form text summarization, multilingual conversational agents, and coding assistants. We’ve also made changes to our license, allowing developers to use the outputs from Llama models—including the 405B—to improve other models. True to our commitment to open source, starting today, we’re making these models available to the community for download on llama.meta.com and Hugging Face and available for immediate development on our broad ecosystem of partner platforms. Model evaluations\n",
        "For this release, we evaluated performance on over 150 benchmark datasets that span a wide range of languages. In addition, we performed extensive human evaluations that compare Llama 3.1 with competing models in real-world scenarios. Our experimental evaluation suggests that our flagship model is competitive with leading foundation models across a range of tasks, including GPT-4, GPT-4o, and Claude 3.5 Sonnet. Additionally, our smaller models are competitive with closed and open models that have a similar number of parameters.\n",
        "Model Architecture As our largest model yet, training Llama 3.1 405B on over 15 trillion tokens was a major challenge. To enable training runs at this scale and achieve the results we have in a reasonable amount of time, we significantly optimized our full training stack and pushed our model training to over 16 thousand H100 GPUs, making the 405B the first Llama model trained at this scale.\n",
        "To address this, we made design choices that focus on keeping the model development process scalable and straightforward. We opted for a standard decoder-only transformer model architecture with minor adaptations rather than a mixture-of-experts model to maximize training stability.\n",
        "We adopted an iterative post-training procedure, where each round uses supervised fine-tuning and direct preference optimization. This enabled us to create the highest quality synthetic data for each round and improve each capability’s performance.\n",
        "Compared to previous versions of Llama, we improved both the quantity and quality of the data we use for pre- and post-training. These improvements include the development of more careful pre-processing and curation pipelines for pre-training data, the development of more rigorous quality assurance, and filtering approaches for post-training data.\n",
        "\"\"\""
      ],
      "metadata": {
        "id": "jAPOfX9fSKai"
      },
      "execution_count": 23,
      "outputs": []
    },
    {
      "cell_type": "code",
      "source": [
        "QUESTION = \"How many parameters LLaMA 3.1 model has?\"\n",
        "\n",
        "# Formulating the system prompt\n",
        "system_prompt = (\n",
        "        \"You are an assistant and expert in answering questions from a chunks of content. \"\n",
        "        \"Only answer AI-related question, else say that you cannot answer this question.\"\n",
        "    )\n",
        "# Combining the system prompt with the user's question\n",
        "prompt = (\n",
        "        \"Read the following informations that might contain the context you require to answer the question. You can use the informations starting from the <START_OF_CONTEXT> tag and end with the <END_OF_CONTEXT> tag. Here is the content:\\n\\n<START_OF_CONTEXT>\\n{}\\n<END_OF_CONTEXT>\\n\\n\"\n",
        "        \"Please provide an informative and accurate answer to the following question based on the avaiable context. Be concise and take your time. \\nQuestion: {}\\nAnswer:\"\n",
        "    )\n",
        "prompt = prompt.format(Example_chunk, QUESTION)\n",
        "\n",
        "model = genai.GenerativeModel(model_name= \"gemini-1.5-flash\", system_instruction=system_prompt)\n",
        "\n",
        "#Gemini API call\n",
        "result = model.generate_content(prompt,request_options={\"timeout\": 1000},)\n",
        "res = result.text\n",
        "print(res)"
      ],
      "metadata": {
        "colab": {
          "base_uri": "https://localhost:8080/"
        },
        "id": "E28JMT8mSKUf",
        "outputId": "79caf6f6-1223-4c85-d170-5aa9600c441d"
      },
      "execution_count": 24,
      "outputs": [
        {
          "output_type": "stream",
          "name": "stdout",
          "text": [
            "The provided text mentions a 405B parameter LLaMA 3.1 model, as well as upgraded 8B and 70B parameter models.\n",
            "\n"
          ]
        }
      ]
    },
    {
      "cell_type": "markdown",
      "metadata": {
        "id": "pW-BNCAC2JzE"
      },
      "source": [
        "# Without Augmentation\n"
      ]
    },
    {
      "cell_type": "markdown",
      "metadata": {
        "id": "tr5zXEGIMwJu"
      },
      "source": [
        "Test the Gemini API to answer the same question without the addition of retrieved documents. Basically, the LLM will use its knowledge to answer the question.\n"
      ]
    },
    {
      "cell_type": "code",
      "execution_count": 25,
      "metadata": {
        "id": "RuyXjzZyuecE"
      },
      "outputs": [],
      "source": [
        "QUESTION = \"How many parameters LLaMA 3 model has?\"\n",
        "\n",
        "# Formulating the system prompt\n",
        "system_prompt = \"You are an assistant and expert in answering questions.\"\n",
        "\n",
        "# Combining the system prompt with the user's question\n",
        "prompt = \"Be concise and take your time to answer the following question. \\nQuestion: {}\\nAnswer:\"\n",
        "prompt = prompt.format(QUESTION)\n",
        "\n",
        "model = genai.GenerativeModel(model_name= \"gemini-1.5-flash\", system_instruction=system_prompt)\n",
        "\n",
        "#Gemini API call\n",
        "result = model.generate_content(prompt,request_options={\"timeout\": 1000},)\n",
        "res = result.text"
      ]
    },
    {
      "cell_type": "code",
      "execution_count": null,
      "metadata": {
        "colab": {
          "base_uri": "https://localhost:8080/"
        },
        "id": "YAy34tPTzGbh",
        "outputId": "81bf9cfb-f8ad-468c-8d9b-0e6691b7fabb"
      },
      "outputs": [
        {
          "output_type": "stream",
          "name": "stdout",
          "text": [
            "The exact number of parameters for LLaMA 3 models isn't publicly available.  Meta has not released precise parameter counts for its various LLaMA 3 sizes.\n",
            "\n"
          ]
        }
      ],
      "source": [
        "print(res)"
      ]
    },
    {
      "cell_type": "code",
      "source": [],
      "metadata": {
        "id": "jCEapX5C83m2"
      },
      "execution_count": null,
      "outputs": []
    }
  ],
  "metadata": {
    "colab": {
      "provenance": []
    },
    "kernelspec": {
      "display_name": "Python 3",
      "name": "python3"
    },
    "language_info": {
      "name": "python",
      "version": "3.12.4"
    },
    "widgets": {
      "application/vnd.jupyter.widget-state+json": {
        "45eb074f44254a699ba639d8c9a55084": {
          "model_module": "@jupyter-widgets/controls",
          "model_name": "HBoxModel",
          "model_module_version": "1.5.0",
          "state": {
            "_dom_classes": [],
            "_model_module": "@jupyter-widgets/controls",
            "_model_module_version": "1.5.0",
            "_model_name": "HBoxModel",
            "_view_count": null,
            "_view_module": "@jupyter-widgets/controls",
            "_view_module_version": "1.5.0",
            "_view_name": "HBoxView",
            "box_style": "",
            "children": [
              "IPY_MODEL_f7840898b7c249dfa4213bf007911e25",
              "IPY_MODEL_6a8894d706484673a8e4599579006658",
              "IPY_MODEL_6fccb69e9de44c088d65714dc6ac0d30"
            ],
            "layout": "IPY_MODEL_6a40143733f848cf82666cad06e2e070"
          }
        },
        "f7840898b7c249dfa4213bf007911e25": {
          "model_module": "@jupyter-widgets/controls",
          "model_name": "HTMLModel",
          "model_module_version": "1.5.0",
          "state": {
            "_dom_classes": [],
            "_model_module": "@jupyter-widgets/controls",
            "_model_module_version": "1.5.0",
            "_model_name": "HTMLModel",
            "_view_count": null,
            "_view_module": "@jupyter-widgets/controls",
            "_view_module_version": "1.5.0",
            "_view_name": "HTMLView",
            "description": "",
            "description_tooltip": null,
            "layout": "IPY_MODEL_625ad262c0cd49029d8084e78a577273",
            "placeholder": "​",
            "style": "IPY_MODEL_d8b235239f2b4bab94920256ebcddf0b",
            "value": ""
          }
        },
        "6a8894d706484673a8e4599579006658": {
          "model_module": "@jupyter-widgets/controls",
          "model_name": "FloatProgressModel",
          "model_module_version": "1.5.0",
          "state": {
            "_dom_classes": [],
            "_model_module": "@jupyter-widgets/controls",
            "_model_module_version": "1.5.0",
            "_model_name": "FloatProgressModel",
            "_view_count": null,
            "_view_module": "@jupyter-widgets/controls",
            "_view_module_version": "1.5.0",
            "_view_name": "ProgressView",
            "bar_style": "success",
            "description": "",
            "description_tooltip": null,
            "layout": "IPY_MODEL_2a7ef2fe4b2742a8ba30c8afb093c7d9",
            "max": 1,
            "min": 0,
            "orientation": "horizontal",
            "style": "IPY_MODEL_5dcdc3fc26d2477281cdfeced2a5d02d",
            "value": 1
          }
        },
        "6fccb69e9de44c088d65714dc6ac0d30": {
          "model_module": "@jupyter-widgets/controls",
          "model_name": "HTMLModel",
          "model_module_version": "1.5.0",
          "state": {
            "_dom_classes": [],
            "_model_module": "@jupyter-widgets/controls",
            "_model_module_version": "1.5.0",
            "_model_name": "HTMLModel",
            "_view_count": null,
            "_view_module": "@jupyter-widgets/controls",
            "_view_module_version": "1.5.0",
            "_view_name": "HTMLView",
            "description": "",
            "description_tooltip": null,
            "layout": "IPY_MODEL_d4c9ff346be44ff3bd98eed27e1dd06f",
            "placeholder": "​",
            "style": "IPY_MODEL_a062398ef22748a59c5305445c2af630",
            "value": " 174/? [00:49&lt;00:00,  5.38it/s]"
          }
        },
        "6a40143733f848cf82666cad06e2e070": {
          "model_module": "@jupyter-widgets/base",
          "model_name": "LayoutModel",
          "model_module_version": "1.2.0",
          "state": {
            "_model_module": "@jupyter-widgets/base",
            "_model_module_version": "1.2.0",
            "_model_name": "LayoutModel",
            "_view_count": null,
            "_view_module": "@jupyter-widgets/base",
            "_view_module_version": "1.2.0",
            "_view_name": "LayoutView",
            "align_content": null,
            "align_items": null,
            "align_self": null,
            "border": null,
            "bottom": null,
            "display": null,
            "flex": null,
            "flex_flow": null,
            "grid_area": null,
            "grid_auto_columns": null,
            "grid_auto_flow": null,
            "grid_auto_rows": null,
            "grid_column": null,
            "grid_gap": null,
            "grid_row": null,
            "grid_template_areas": null,
            "grid_template_columns": null,
            "grid_template_rows": null,
            "height": null,
            "justify_content": null,
            "justify_items": null,
            "left": null,
            "margin": null,
            "max_height": null,
            "max_width": null,
            "min_height": null,
            "min_width": null,
            "object_fit": null,
            "object_position": null,
            "order": null,
            "overflow": null,
            "overflow_x": null,
            "overflow_y": null,
            "padding": null,
            "right": null,
            "top": null,
            "visibility": null,
            "width": null
          }
        },
        "625ad262c0cd49029d8084e78a577273": {
          "model_module": "@jupyter-widgets/base",
          "model_name": "LayoutModel",
          "model_module_version": "1.2.0",
          "state": {
            "_model_module": "@jupyter-widgets/base",
            "_model_module_version": "1.2.0",
            "_model_name": "LayoutModel",
            "_view_count": null,
            "_view_module": "@jupyter-widgets/base",
            "_view_module_version": "1.2.0",
            "_view_name": "LayoutView",
            "align_content": null,
            "align_items": null,
            "align_self": null,
            "border": null,
            "bottom": null,
            "display": null,
            "flex": null,
            "flex_flow": null,
            "grid_area": null,
            "grid_auto_columns": null,
            "grid_auto_flow": null,
            "grid_auto_rows": null,
            "grid_column": null,
            "grid_gap": null,
            "grid_row": null,
            "grid_template_areas": null,
            "grid_template_columns": null,
            "grid_template_rows": null,
            "height": null,
            "justify_content": null,
            "justify_items": null,
            "left": null,
            "margin": null,
            "max_height": null,
            "max_width": null,
            "min_height": null,
            "min_width": null,
            "object_fit": null,
            "object_position": null,
            "order": null,
            "overflow": null,
            "overflow_x": null,
            "overflow_y": null,
            "padding": null,
            "right": null,
            "top": null,
            "visibility": null,
            "width": null
          }
        },
        "d8b235239f2b4bab94920256ebcddf0b": {
          "model_module": "@jupyter-widgets/controls",
          "model_name": "DescriptionStyleModel",
          "model_module_version": "1.5.0",
          "state": {
            "_model_module": "@jupyter-widgets/controls",
            "_model_module_version": "1.5.0",
            "_model_name": "DescriptionStyleModel",
            "_view_count": null,
            "_view_module": "@jupyter-widgets/base",
            "_view_module_version": "1.2.0",
            "_view_name": "StyleView",
            "description_width": ""
          }
        },
        "2a7ef2fe4b2742a8ba30c8afb093c7d9": {
          "model_module": "@jupyter-widgets/base",
          "model_name": "LayoutModel",
          "model_module_version": "1.2.0",
          "state": {
            "_model_module": "@jupyter-widgets/base",
            "_model_module_version": "1.2.0",
            "_model_name": "LayoutModel",
            "_view_count": null,
            "_view_module": "@jupyter-widgets/base",
            "_view_module_version": "1.2.0",
            "_view_name": "LayoutView",
            "align_content": null,
            "align_items": null,
            "align_self": null,
            "border": null,
            "bottom": null,
            "display": null,
            "flex": null,
            "flex_flow": null,
            "grid_area": null,
            "grid_auto_columns": null,
            "grid_auto_flow": null,
            "grid_auto_rows": null,
            "grid_column": null,
            "grid_gap": null,
            "grid_row": null,
            "grid_template_areas": null,
            "grid_template_columns": null,
            "grid_template_rows": null,
            "height": null,
            "justify_content": null,
            "justify_items": null,
            "left": null,
            "margin": null,
            "max_height": null,
            "max_width": null,
            "min_height": null,
            "min_width": null,
            "object_fit": null,
            "object_position": null,
            "order": null,
            "overflow": null,
            "overflow_x": null,
            "overflow_y": null,
            "padding": null,
            "right": null,
            "top": null,
            "visibility": null,
            "width": "20px"
          }
        },
        "5dcdc3fc26d2477281cdfeced2a5d02d": {
          "model_module": "@jupyter-widgets/controls",
          "model_name": "ProgressStyleModel",
          "model_module_version": "1.5.0",
          "state": {
            "_model_module": "@jupyter-widgets/controls",
            "_model_module_version": "1.5.0",
            "_model_name": "ProgressStyleModel",
            "_view_count": null,
            "_view_module": "@jupyter-widgets/base",
            "_view_module_version": "1.2.0",
            "_view_name": "StyleView",
            "bar_color": null,
            "description_width": ""
          }
        },
        "d4c9ff346be44ff3bd98eed27e1dd06f": {
          "model_module": "@jupyter-widgets/base",
          "model_name": "LayoutModel",
          "model_module_version": "1.2.0",
          "state": {
            "_model_module": "@jupyter-widgets/base",
            "_model_module_version": "1.2.0",
            "_model_name": "LayoutModel",
            "_view_count": null,
            "_view_module": "@jupyter-widgets/base",
            "_view_module_version": "1.2.0",
            "_view_name": "LayoutView",
            "align_content": null,
            "align_items": null,
            "align_self": null,
            "border": null,
            "bottom": null,
            "display": null,
            "flex": null,
            "flex_flow": null,
            "grid_area": null,
            "grid_auto_columns": null,
            "grid_auto_flow": null,
            "grid_auto_rows": null,
            "grid_column": null,
            "grid_gap": null,
            "grid_row": null,
            "grid_template_areas": null,
            "grid_template_columns": null,
            "grid_template_rows": null,
            "height": null,
            "justify_content": null,
            "justify_items": null,
            "left": null,
            "margin": null,
            "max_height": null,
            "max_width": null,
            "min_height": null,
            "min_width": null,
            "object_fit": null,
            "object_position": null,
            "order": null,
            "overflow": null,
            "overflow_x": null,
            "overflow_y": null,
            "padding": null,
            "right": null,
            "top": null,
            "visibility": null,
            "width": null
          }
        },
        "a062398ef22748a59c5305445c2af630": {
          "model_module": "@jupyter-widgets/controls",
          "model_name": "DescriptionStyleModel",
          "model_module_version": "1.5.0",
          "state": {
            "_model_module": "@jupyter-widgets/controls",
            "_model_module_version": "1.5.0",
            "_model_name": "DescriptionStyleModel",
            "_view_count": null,
            "_view_module": "@jupyter-widgets/base",
            "_view_module_version": "1.2.0",
            "_view_name": "StyleView",
            "description_width": ""
          }
        }
      }
    }
  },
  "nbformat": 4,
  "nbformat_minor": 0
}