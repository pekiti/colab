{
  "cells": [
    {
      "cell_type": "markdown",
      "metadata": {
        "id": "1jZIfJ1UvEGr"
      },
      "source": [
        "[![Open in Colab](https://colab.research.google.com/assets/colab-badge.svg)](https://colab.research.google.com/github/towardsai/ai-tutor-rag-system/blob/main/notebooks/Limitations_and_weaknesses_of_LLMs.ipynb)"
      ]
    },
    {
      "cell_type": "code",
      "execution_count": 4,
      "metadata": {
        "id": "8RRmESqBDsvK"
      },
      "outputs": [],
      "source": [
        "import requests\n",
        "\n",
        "from google.colab import userdata\n",
        "\n",
        "# from google.colab import userdata\n",
        "api_key = userdata.get('openai_api_key')\n",
        "\n",
        "# The URL for the OpenAI API (GPT-4 endpoint)\n",
        "url = \"https://api.openai.com/v1/chat/completions\""
      ]
    },
    {
      "cell_type": "code",
      "execution_count": 5,
      "metadata": {
        "id": "x2s6BfWiD2sp"
      },
      "outputs": [],
      "source": [
        "# Setting up the headers with your API key for authentication\n",
        "headers = {\n",
        "    \"Authorization\": f\"Bearer {api_key}\",\n",
        "    \"Content-Type\": \"application/json\",\n",
        "}\n",
        "\n",
        "# The data payload with your prompt and other parameters\n",
        "data = {\n",
        "    \"model\": \"gpt-4o-mini\",\n",
        "    \"messages\": [\n",
        "        {\n",
        "            \"role\": \"system\",\n",
        "            \"content\": \"You are a helpful assistant.\"\n",
        "        },\n",
        "        {\n",
        "            \"role\": \"user\",\n",
        "            \"content\": \"{prompt}\"\n",
        "        }\n",
        "    ],\n",
        "    \"max_tokens\": 256,\n",
        "    \"temperature\": 0.0,\n",
        "}"
      ]
    },
    {
      "cell_type": "code",
      "execution_count": 6,
      "metadata": {
        "id": "JRfQ8vxXL8Pb"
      },
      "outputs": [],
      "source": [
        "import requests\n",
        "\n",
        "def generate(prompt):\n",
        "  # Set the prompt\n",
        "  data[\"messages\"][1]['content'] = prompt\n",
        "\n",
        "  # Sending the POST request to the API\n",
        "  response = requests.post(url, json=data, headers=headers)\n",
        "\n",
        "  # Checking if the request was successful\n",
        "  if response.status_code == 200:\n",
        "      # Print the text part of the response\n",
        "      return response.json()['choices'][0]['message']['content']\n",
        "  else:\n",
        "      return response.text"
      ]
    },
    {
      "cell_type": "markdown",
      "metadata": {
        "id": "4Ch-k33uL5c6"
      },
      "source": [
        "# Hallucination"
      ]
    },
    {
      "cell_type": "code",
      "execution_count": 7,
      "metadata": {
        "colab": {
          "base_uri": "https://localhost:8080/",
          "height": 71
        },
        "id": "Z4Apjnijk1Lx",
        "outputId": "9b576bcf-25ce-4cf6-c0c2-671cfb415979"
      },
      "outputs": [
        {
          "output_type": "execute_result",
          "data": {
            "text/plain": [
              "'The largest open-source model developed by Towards AI is called \"GPT-NEOX.\" It is a 20 billion parameter model, designed to be a powerful alternative to proprietary models. GPT-NEOX is part of the EleutherAI initiative, which aims to provide open-source alternatives to large language models. If you need more specific details or updates, please let me know!'"
            ],
            "application/vnd.google.colaboratory.intrinsic+json": {
              "type": "string"
            }
          },
          "metadata": {},
          "execution_count": 7
        }
      ],
      "source": [
        "generate( \"What is the largest open-source model developed by Towards AI and what is its size?\" )"
      ]
    },
    {
      "cell_type": "markdown",
      "metadata": {
        "id": "XxsN8TAcL370"
      },
      "source": [
        "# Bias"
      ]
    },
    {
      "cell_type": "code",
      "execution_count": 8,
      "metadata": {
        "colab": {
          "base_uri": "https://localhost:8080/",
          "height": 35
        },
        "id": "-0EcwG2Zli4Q",
        "outputId": "e0f6920c-caa5-4880-856f-dc22aec3a738"
      },
      "outputs": [
        {
          "output_type": "execute_result",
          "data": {
            "text/plain": [
              "'Una infermiera ha salvato la situazione ieri.'"
            ],
            "application/vnd.google.colaboratory.intrinsic+json": {
              "type": "string"
            }
          },
          "metadata": {},
          "execution_count": 8
        }
      ],
      "source": [
        "generate( \"Translate the following from English to Italy: A Nurse saved the situation yesterday.\" )"
      ]
    },
    {
      "cell_type": "code",
      "execution_count": 9,
      "metadata": {
        "colab": {
          "base_uri": "https://localhost:8080/",
          "height": 35
        },
        "id": "daCBiKaQlj1c",
        "outputId": "98c9f393-7c30-4fa7-d203-a9f187e23167"
      },
      "outputs": [
        {
          "output_type": "execute_result",
          "data": {
            "text/plain": [
              "'Un ingegnere ha salvato la situazione ieri.'"
            ],
            "application/vnd.google.colaboratory.intrinsic+json": {
              "type": "string"
            }
          },
          "metadata": {},
          "execution_count": 9
        }
      ],
      "source": [
        "generate( \"Translate the following from English to Italy: An engineer saved the situation yesterday.\" )"
      ]
    },
    {
      "cell_type": "markdown",
      "metadata": {
        "id": "hBkWm2azkJHu"
      },
      "source": [
        "# Knowledge Cut Off"
      ]
    },
    {
      "cell_type": "code",
      "execution_count": 10,
      "metadata": {
        "colab": {
          "base_uri": "https://localhost:8080/",
          "height": 71
        },
        "id": "T69Y2oNgLsHR",
        "outputId": "2b14d0da-16bc-447b-b1ce-836fc3119dcd"
      },
      "outputs": [
        {
          "output_type": "execute_result",
          "data": {
            "text/plain": [
              "\"As of my last update in October 2023, the most recent Super Bowl was Super Bowl LVII, which took place on February 12, 2023. The Kansas City Chiefs won that game, defeating the Philadelphia Eagles with a score of 38-35. If you're looking for information beyond that, please check the latest sources.\""
            ],
            "application/vnd.google.colaboratory.intrinsic+json": {
              "type": "string"
            }
          },
          "metadata": {},
          "execution_count": 10
        }
      ],
      "source": [
        "generate( \"Who won the last super bowl?\" )"
      ]
    },
    {
      "cell_type": "code",
      "execution_count": 11,
      "metadata": {
        "colab": {
          "base_uri": "https://localhost:8080/",
          "height": 71
        },
        "id": "t9ApJ-wikYLR",
        "outputId": "cab72c7f-d055-4d01-fe29-b988b48816a7"
      },
      "outputs": [
        {
          "output_type": "execute_result",
          "data": {
            "text/plain": [
              "'As of my last knowledge update in October 2023, the latest Mission: Impossible movie is \"Mission: Impossible – Dead Reckoning Part One,\" which was released in July 2023. It is the seventh installment in the Mission: Impossible film series. A sequel, titled \"Mission: Impossible – Dead Reckoning Part Two,\" is scheduled for release in 2024. Please verify for any updates or changes that may have occurred since then.'"
            ],
            "application/vnd.google.colaboratory.intrinsic+json": {
              "type": "string"
            }
          },
          "metadata": {},
          "execution_count": 11
        }
      ],
      "source": [
        "generate( \"What is last Mission Impossible movie?\" )"
      ]
    },
    {
      "cell_type": "code",
      "execution_count": null,
      "metadata": {
        "id": "nNJWEzvr8R16"
      },
      "outputs": [],
      "source": []
    }
  ],
  "metadata": {
    "colab": {
      "provenance": []
    },
    "kernelspec": {
      "display_name": "Python 3",
      "name": "python3"
    },
    "language_info": {
      "name": "python"
    }
  },
  "nbformat": 4,
  "nbformat_minor": 0
}